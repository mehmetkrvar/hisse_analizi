{
 "cells": [
  {
   "cell_type": "code",
   "execution_count": 6,
   "metadata": {},
   "outputs": [
    {
     "name": "stdout",
     "output_type": "stream",
     "text": [
      "Hisse senedi fiyatlarını çekmek için lütfen aşağıdaki bilgileri girin:\n"
     ]
    }
   ],
   "source": [
    "from isyatirimhisse import StockData\n",
    "import pandas as pd\n",
    "class StockDataFetcher:\n",
    "    def __init__(self):\n",
    "        self.stock_data = StockData()\n",
    "\n",
    "    def fetch_stock_data(self):\n",
    "        print(\"Hisse senedi fiyatlarını çekmek için lütfen aşağıdaki bilgileri girin:\")\n",
    "            \n",
    "        symbol = input(\"Hisse senedi sembolünü girin (örn. 'THYAO'): \").strip()\n",
    "        start_date = input(\"Başlangıç tarihini 'GG-AA-YYYY' formatında girin (örn. '01-01-2020'): \").strip()\n",
    "        end_date = input(\"Bitiş tarihini 'GG-AA-YYYY' formatında girin (örn. '31-12-2021'): \").strip()\n",
    "\n",
    "        df = self.stock_data.get_data(\n",
    "            symbols=symbol,\n",
    "            start_date=start_date,\n",
    "            end_date=end_date\n",
    "        )\n",
    "        # hangi sütunları görmek istiyorsanız onları yazın\n",
    "        # yoksa bütün sütunları gösterir\n",
    "        # df=df[['DATE','CLOSING_TL']]   \n",
    "        df.to_csv(\"data.csv\", index=False)\n",
    "        print(\"Veriler başarıyla çekildi ve 'data.csv' dosyasına kaydedildi.\")\n",
    "\n",
    "\n",
    "if __name__ == \"__main__\":\n",
    "    stock_data_fetcher = StockDataFetcher()\n",
    "    stock_data_fetcher.fetch_stock_data()\n"
   ]
  },
  {
   "cell_type": "code",
   "execution_count": 10,
   "metadata": {},
   "outputs": [
    {
     "ename": "IndentationError",
     "evalue": "expected an indented block after function definition on line 11 (1281937405.py, line 19)",
     "output_type": "error",
     "traceback": [
      "\u001b[1;36m  Cell \u001b[1;32mIn[10], line 19\u001b[1;36m\u001b[0m\n\u001b[1;33m    veri1 = VeriAnalizi(\"data.csv\")\u001b[0m\n\u001b[1;37m                                   ^\u001b[0m\n\u001b[1;31mIndentationError\u001b[0m\u001b[1;31m:\u001b[0m expected an indented block after function definition on line 11\n"
     ]
    }
   ],
   "source": [
    "import pandas as pd\n",
    "class VeriAnalizi():\n",
    "    def __init__(self,data_name):\n",
    "        self.data_name=data_name\n",
    "        self.veri=None\n",
    "    \n",
    "    def veri_oku(self):\n",
    "        self.veri=pd.read_csv(self.data_name)\n",
    "        return self.veri\n",
    "    \n",
    "    def getiri(self):\n",
    "        pass\n",
    "\n",
    "    def tek_done_getiri(self):\n",
    "        pass\n",
    "\n",
    "    def çok_donemli_getiri(self):\n",
    "        pass\n",
    "\n",
    "    def sürekli_bilesik_getiri_ve_logaritmik_getiri(self):\n",
    "        pass\n",
    "\n",
    "    def reel_getiri(self):\n",
    "        pass\n",
    "\n",
    "    def beklenen_getiri(self):\n",
    "        pass\n",
    "\n",
    "    def tarihsel_ortalama(self):\n",
    "        pass\n",
    "    \n",
    "    def volatilite(self):\n",
    "        pass\n",
    "\n",
    "    def varyans(self):\n",
    "        pass\n",
    "\n",
    "    def standart_sapma(self):\n",
    "        pass\n",
    "\n",
    "    def ustsel_hareketli_ortalama(self):\n",
    "        pass\n",
    "\n",
    "    def otoregresif_kosullu_variyans(self):\n",
    "        pass\n",
    "\n",
    "    def portfoy_getirisi(self):\n",
    "        pass\n",
    "\n",
    "    def portfoy_riski(self):\n",
    "        pass\n",
    "\n",
    "    def portfoyde_beklenen_getiriye_gore_agirliklarin_optimize_edilmesi(self):\n",
    "        pass\n",
    "\n",
    "    def portfoy_riskinin_agirliklarini_minimize_etme_ve_optimize_etme(self):\n",
    "        pass\n",
    "    \n",
    "    \n",
    "\n",
    "\n",
    "\n",
    "\n",
    "\n",
    "\n",
    "# Kullanım örneği\n",
    "veri1 = VeriAnalizi(\"data.csv\")\n",
    "veri1.veri_oku()\n"
   ]
  },
  {
   "cell_type": "code",
   "execution_count": null,
   "metadata": {},
   "outputs": [],
   "source": []
  }
 ],
 "metadata": {
  "kernelspec": {
   "display_name": "Python 3",
   "language": "python",
   "name": "python3"
  },
  "language_info": {
   "codemirror_mode": {
    "name": "ipython",
    "version": 3
   },
   "file_extension": ".py",
   "mimetype": "text/x-python",
   "name": "python",
   "nbconvert_exporter": "python",
   "pygments_lexer": "ipython3",
   "version": "3.11.5"
  }
 },
 "nbformat": 4,
 "nbformat_minor": 2
}
